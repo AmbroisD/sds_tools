{
 "cells": [
  {
   "cell_type": "code",
   "execution_count": 5,
   "metadata": {},
   "outputs": [
    {
     "name": "stdout",
     "output_type": "stream",
     "text": [
      "False\n"
     ]
    }
   ],
   "source": [
    "\n",
    "from datetime import datetime\n",
    "\n",
    "a = \"2021.040\"\n",
    "b = \"2023.050\"\n",
    "c = \"2021.045\"\n",
    "d = \"2019.200\"\n",
    "y= \"2022-01-01\"\n",
    "\n",
    "t1 = datetime.strptime(y, '%Y-%M-%d')\n",
    "\n",
    "#1 = datetime.strptime(a, '%Y.%j')\n",
    "t2 = datetime.strptime(b, '%Y.%j')\n",
    "t = datetime.strptime(c, '%Y.%j')\n",
    "#ret = f'{a}.{b}.*'\n",
    "#f\"{values.info.year}.{values.info.day}\"\n",
    "print(t1 < t < t2)\n"
   ]
  },
  {
   "cell_type": "code",
   "execution_count": 11,
   "metadata": {},
   "outputs": [],
   "source": [
    "import os"
   ]
  },
  {
   "cell_type": "code",
   "execution_count": 41,
   "metadata": {},
   "outputs": [
    {
     "data": {
      "text/plain": [
       "True"
      ]
     },
     "execution_count": 41,
     "metadata": {},
     "output_type": "execute_result"
    }
   ],
   "source": [
    "os.path.isfile(\"/Users/ambrois/Documents/01_Scripts/sds_tools/data/SDS_TEST/2021/AM/RATS/VKO.D/AM.RATS.01.VKO.D.2021.241\")"
   ]
  },
  {
   "cell_type": "code",
   "execution_count": 14,
   "metadata": {},
   "outputs": [],
   "source": [
    "import obspy"
   ]
  },
  {
   "cell_type": "code",
   "execution_count": 23,
   "metadata": {},
   "outputs": [
    {
     "data": {
      "text/plain": [
       "False"
      ]
     },
     "execution_count": 23,
     "metadata": {},
     "output_type": "execute_result"
    }
   ],
   "source": [
    "True and\\\n",
    "True and\\\n",
    "False"
   ]
  },
  {
   "cell_type": "code",
   "execution_count": 42,
   "metadata": {},
   "outputs": [],
   "source": [
    "st = obspy.read(\"/Users/ambrois/Documents/01_Scripts/sds_tools/data/SDS_TEST/2021/AM/RATS/VKO.D/AM.RATS.01.VKO.D.2021.241\")"
   ]
  },
  {
   "cell_type": "code",
   "execution_count": 43,
   "metadata": {},
   "outputs": [
    {
     "data": {
      "text/plain": [
       "         network: AM\n",
       "         station: RATS\n",
       "        location: 01\n",
       "         channel: VKO\n",
       "       starttime: 2021-08-29T00:00:00.805000Z\n",
       "         endtime: 2021-08-30T00:00:00.980000Z\n",
       "   sampling_rate: 200.0\n",
       "           delta: 0.005\n",
       "            npts: 17280036\n",
       "           calib: 1.0\n",
       "         _format: MSEED\n",
       "           mseed: AttribDict({'dataquality': 'D', 'number_of_records': 58705, 'encoding': 'STEIM2', 'byteorder': '>', 'record_length': 512, 'filesize': 30056960})"
      ]
     },
     "execution_count": 43,
     "metadata": {},
     "output_type": "execute_result"
    }
   ],
   "source": [
    "st[0].stats"
   ]
  },
  {
   "cell_type": "code",
   "execution_count": 37,
   "metadata": {},
   "outputs": [],
   "source": [
    "import os\n",
    "import sys\n",
    "sys.path.insert(0, os.path.dirname(\"/Users/ambrois/Documents/01_Scripts/sds_tools/utils\"))\n",
    "from utils.file_manager import test_network_format\n",
    "ty = test_network_format('rr')"
   ]
  },
  {
   "cell_type": "code",
   "execution_count": 40,
   "metadata": {},
   "outputs": [
    {
     "data": {
      "text/plain": [
       "False"
      ]
     },
     "execution_count": 40,
     "metadata": {},
     "output_type": "execute_result"
    }
   ],
   "source": [
    "bool(ty)"
   ]
  }
 ],
 "metadata": {
  "interpreter": {
   "hash": "40d3a090f54c6569ab1632332b64b2c03c39dcf918b08424e98f38b5ae0af88f"
  },
  "kernelspec": {
   "display_name": "Python 3.9.7 ('base')",
   "language": "python",
   "name": "python3"
  },
  "language_info": {
   "codemirror_mode": {
    "name": "ipython",
    "version": 3
   },
   "file_extension": ".py",
   "mimetype": "text/x-python",
   "name": "python",
   "nbconvert_exporter": "python",
   "pygments_lexer": "ipython3",
   "version": "3.9.7"
  },
  "orig_nbformat": 4
 },
 "nbformat": 4,
 "nbformat_minor": 2
}
