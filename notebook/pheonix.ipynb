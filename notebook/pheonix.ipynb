{
 "cells": [
  {
   "cell_type": "code",
   "execution_count": 6,
   "metadata": {},
   "outputs": [],
   "source": [
    "from oca.database.abstractdb import DatabaseObjectFactory\n"
   ]
  },
  {
   "cell_type": "code",
   "execution_count": 7,
   "metadata": {},
   "outputs": [],
   "source": [
    "class MetaDataCheck(object):\n",
    "    \"\"\"\n",
    "    Class used to compare data and metadata.\n",
    "    \"\"\"\n",
    "    def __init__(self, station: str) -> None:\n",
    "        self.HOST = 'babel.unice.fr'\n",
    "        self.USER = 'sysop'\n",
    "        self.DB_NAME = 'phoenix'\n",
    "\n",
    "        self.PHOENIX_DB = DatabaseObjectFactory(self.HOST,\n",
    "                                                self.USER,\n",
    "                                                database=self.DB_NAME)\n",
    "\n",
    "        self.name = station\n",
    "        self.station = None\n",
    "        self.station_exist = True\n",
    "        self.channels = None\n",
    "        self.channel_exist = True\n",
    "        self.report = {\"name\" : self.name}\n",
    "        \n",
    "        self._get_station()\n",
    "        self._get_channels()\n",
    "        \n",
    "    def _get_channels(self):\n",
    "        \"\"\"\n",
    "        \"\"\"\n",
    "        self.channels = self.PHOENIX_DB.get_table_objects(\"channel\", filter_select = (\"station_fk\", self.station.object_id()))\n",
    "        print(self.channels[0].location_code())        \n",
    "\n",
    "    def _get_station(self):\n",
    "        station = self.PHOENIX_DB.get_table_objects(\"station\", filter_select = (\"iris_code\", self.name))\n",
    "        \n",
    "        if len(station) == 0:\n",
    "            self.station_exist = False\n",
    "        else:\n",
    "            self.station = station[0]"
   ]
  },
  {
   "cell_type": "code",
   "execution_count": 8,
   "metadata": {},
   "outputs": [
    {
     "name": "stdout",
     "output_type": "stream",
     "text": [
      "2013-05-29 12:00:00\n"
     ]
    }
   ],
   "source": [
    "from datetime import datetime\n",
    "\n",
    "s = \"2013.148\"\n",
    "\n",
    "date = datetime.strptime(s, \"%Y.%j\")\n",
    "\n",
    "tomorrow = datetime(date.year, date.month, date.day+1, 12, 0, 0)\n",
    "print(tomorrow)\n"
   ]
  },
  {
   "cell_type": "code",
   "execution_count": 9,
   "metadata": {},
   "outputs": [
    {
     "name": "stdout",
     "output_type": "stream",
     "text": [
      "[[2, 5], [7, 9], [11, 11], [15, 16]]\n"
     ]
    }
   ],
   "source": [
    "import itertools\n",
    "def intervals_extract(iterable):\n",
    "      \n",
    "    iterable = sorted(set(iterable))\n",
    "    for key, group in itertools.groupby(enumerate(iterable),\n",
    "    lambda t: t[1] - t[0]):\n",
    "        group = list(group)\n",
    "        yield [group[0][1], group[-1][1]]\n",
    "  \n",
    "# Driver code\n",
    "l = [2, 3, 4, 5, 7, 8, 9, 11, 15, 16]\n",
    "print( list(intervals_extract(l)))\n"
   ]
  },
  {
   "cell_type": "code",
   "execution_count": 2,
   "metadata": {},
   "outputs": [],
   "source": [
    "from obspy import read_inventory"
   ]
  },
  {
   "cell_type": "code",
   "execution_count": 14,
   "metadata": {},
   "outputs": [],
   "source": [
    "inv = read_inventory(\"../../../00_Projets/01_Ecuador/inventory/Equateur_20220610/2J_PAC2.xml\")"
   ]
  },
  {
   "cell_type": "code",
   "execution_count": 16,
   "metadata": {},
   "outputs": [
    {
     "data": {
      "text/plain": [
       "Channel 'HHE', Location '00' \n",
       "\tTime range: 2012-09-01T00:00:00.000000Z - 2015-12-02T00:00:00.000000Z\n",
       "\tLatitude: -1.06, Longitude: -80.88, Elevation: 311.0 m, Local Depth: 0.5 m\n",
       "\tAzimuth: 90.00 degrees from north, clockwise\n",
       "\tDip: 0.00 degrees down from horizontal\n",
       "\tChannel types: CONTINUOUS, GEOPHYSICAL\n",
       "\tSampling Rate: 100.00 Hz\n",
       "\tSensor (Description): None (TRILLIUM-Compact broad band triaxial sensor by Nanometrics)\n",
       "\tResponse information available"
      ]
     },
     "execution_count": 16,
     "metadata": {},
     "output_type": "execute_result"
    }
   ],
   "source": [
    "inv[0][0][0]"
   ]
  },
  {
   "cell_type": "code",
   "execution_count": 1,
   "metadata": {},
   "outputs": [],
   "source": [
    "import xmltodict"
   ]
  },
  {
   "cell_type": "code",
   "execution_count": 2,
   "metadata": {},
   "outputs": [],
   "source": [
    "dic_inv = xmltodict.parse(open(\"../../../00_Projets/01_Ecuador/inventory/Equateur_20220610/2J_PAC2.xml\", 'r').read())"
   ]
  },
  {
   "cell_type": "code",
   "execution_count": 23,
   "metadata": {},
   "outputs": [
    {
     "data": {
      "text/plain": [
       "6"
      ]
     },
     "execution_count": 23,
     "metadata": {},
     "output_type": "execute_result"
    }
   ],
   "source": [
    "len(dic_inv['FDSNStationXML']['Network']['Station']['Channel'])\n",
    "\n",
    "station = 'XXX'\n",
    "location = '00'\n",
    "lat = '-1.064875'\n",
    "lon = '-2.064875'\n",
    "elev = '311'\n",
    "depth = '0.5'\n",
    "start = '2001-09-01T00:00:00Z'\n",
    "end = '2002-12-02T00:00:00Z'\n",
    "\n",
    "from collections import OrderedDict\n",
    "new = OrderedDict([('@code', station),\n",
    "              ('@startDate', start),\n",
    "              ('@endDate', end),\n",
    "              ('@locationCode', location),\n",
    "              ('Latitude', lat),\n",
    "              ('Longitude', lon),\n",
    "              ('Elevation', elev),\n",
    "              ('Depth', depth),\n",
    "              ('Azimuth', '90'),\n",
    "              ('Dip', '0'),\n",
    "              ('Type', ['CONTINUOUS', 'GEOPHYSICAL'])])\n",
    "\n",
    "dic_inv['FDSNStationXML']['Network']['Station']['Channel'].append(new)\n",
    "len(dic_inv['FDSNStationXML']['Network']['Station']['Channel'])"
   ]
  },
  {
   "cell_type": "code",
   "execution_count": 24,
   "metadata": {},
   "outputs": [],
   "source": [
    "xml = xmltodict.unparse(dic_inv)\n",
    "f = open('test.xml', \"w\")\n",
    "f.write(xml)\n",
    "f.close()"
   ]
  },
  {
   "cell_type": "code",
   "execution_count": 1,
   "metadata": {},
   "outputs": [],
   "source": [
    "from obspy import read_inventory"
   ]
  },
  {
   "cell_type": "code",
   "execution_count": 4,
   "metadata": {},
   "outputs": [],
   "source": [
    "i = read_inventory(\"/Users/ambrois/Documents/01_Scripts/sds_tools/phoenix_tools/text.xml\")"
   ]
  },
  {
   "cell_type": "code",
   "execution_count": 12,
   "metadata": {},
   "outputs": [
    {
     "name": "stdout",
     "output_type": "stream",
     "text": [
      "Network Z2 (Haiti Response 2021)\n",
      "\tStation Count: None/None (Selected/Total)\n",
      "\t2021-08-15T00:00:00.000000Z - 2022-12-31T23:59:59.000000Z\n",
      "\tAccess: UNKNOWN\n",
      "\tContains:\n",
      "\t\tStations (1):\n",
      "\t\t\tZ2.HBAR (Baradères)\n",
      "\t\tChannels (5):\n",
      "\t\t\tZ2.HBAR.00.HHZ, Z2.HBAR.00.HHN, Z2.HBAR.00.HHE, Z2.HBAR.00.VVZ, \n",
      "\t\t\tZ2.HBAR.01.XXZ\n",
      "Station HBAR (Baradères)\n",
      "\tStation Code: HBAR\n",
      "\tChannel Count: 3/3 (Selected/Total)\n",
      "\t2021-08-18T22:00:00.000000Z - \n",
      "\tAccess: None \n",
      "\tLatitude: 18.48, Longitude: -73.64, Elevation: 19.1 m\n",
      "\tAvailable Channels:\n",
      "\t\tHBAR.00.HHZ, HBAR.00.HHN, HBAR.00.HHE, HBAR.00.VVZ, HBAR.01.XXZ\n",
      "-73.643\n",
      "19.1\n"
     ]
    }
   ],
   "source": [
    "print(i[0])\n",
    "print(i[0][0])\n",
    "print(i[0][0].longitude)\n",
    "print(i[0][0].elevation)"
   ]
  },
  {
   "cell_type": "code",
   "execution_count": null,
   "metadata": {},
   "outputs": [],
   "source": []
  },
  {
   "cell_type": "markdown",
   "metadata": {},
   "source": []
  }
 ],
 "metadata": {
  "kernelspec": {
   "display_name": "Python 3.9.7 ('base')",
   "language": "python",
   "name": "python3"
  },
  "language_info": {
   "codemirror_mode": {
    "name": "ipython",
    "version": 3
   },
   "file_extension": ".py",
   "mimetype": "text/x-python",
   "name": "python",
   "nbconvert_exporter": "python",
   "pygments_lexer": "ipython3",
   "version": "3.9.7"
  },
  "orig_nbformat": 4,
  "vscode": {
   "interpreter": {
    "hash": "40d3a090f54c6569ab1632332b64b2c03c39dcf918b08424e98f38b5ae0af88f"
   }
  }
 },
 "nbformat": 4,
 "nbformat_minor": 2
}
