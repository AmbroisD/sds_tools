{
 "cells": [
  {
   "cell_type": "code",
   "execution_count": 1,
   "metadata": {},
   "outputs": [],
   "source": [
    "rep_gzip = \"../../data/sac_gzip/s2rhai2021pwii/s2rhai2021pwii.tar.gz\"\n",
    "import obspy"
   ]
  },
  {
   "cell_type": "code",
   "execution_count": 2,
   "metadata": {},
   "outputs": [],
   "source": [
    "def rename_data(tr, station=None, network=None, location=None, channel=None):\n",
    "    \"\"\"\n",
    "    To rename trace\n",
    "\n",
    "    :param tr: Set Trace to rename\n",
    "    :type tr: obspy.trace\n",
    "    :param station: Set new station name, defaults to None\n",
    "    :type station: str, optional\n",
    "    :param network: Set new network name, defaults to None\n",
    "    :type network: str, optional\n",
    "    :param location: Set new location name, defaults to None\n",
    "    :type location: str, optional\n",
    "    :param channel: Set new channel name, defaults to None\n",
    "    :type channel: str, optional\n",
    "    :return: return the new trace\n",
    "    :rtype: obspy.trace\n",
    "    \"\"\"\n",
    "    if station is not None:\n",
    "        tr.stats.station = station\n",
    "    if network is not None:\n",
    "        tr.stats.network = network\n",
    "    if location is not None:\n",
    "        tr.stats.location = location\n",
    "    if channel is not None:\n",
    "        tr.stats.channel = channel\n",
    "    return tr\n",
    "    \n",
    "    "
   ]
  },
  {
   "cell_type": "code",
   "execution_count": 3,
   "metadata": {},
   "outputs": [
    {
     "name": "stdout",
     "output_type": "stream",
     "text": [
      "['LO', 'LODA2', '00', 'EHE.sac']\n",
      "['LO', 'LOVI', '00', 'EHE.sac']\n",
      "['CU', 'SDDR', '00', 'BHZ.sac']\n",
      "['LO', 'LODU1', '00', 'EHE.sac']\n",
      "['CN', 'LGNH', '', 'HHN.sac']\n",
      "['CW', 'QMBU', '00', 'HHN.sac']\n",
      "['AM', 'R3397', '00', 'EHZ.sac']\n",
      "['AM', 'R897D', '00', 'EHZ.sac']\n",
      "['AM', 'RCE1F', '00', 'EHZ.sac']\n",
      "['LO', 'LONE3', '00', 'EHE.sac']\n",
      "['CW', 'QMBU', '00', 'HHZ.sac']\n",
      "['AM', 'R595E', '00', 'EHZ.sac']\n",
      "['LO', 'LOBH', '00', 'EHE.sac']\n",
      "['CN', 'LGNH', '', 'HNZ.sac']\n",
      "['AM', 'R50D4', '00', 'EHZ.sac']\n"
     ]
    },
    {
     "data": {
      "image/png": "[encoded data removed]",
      "text/plain": [
       "<Figure size 800x250 with 1 Axes>"
      ]
     },
     "metadata": {},
     "output_type": "display_data"
    },
    {
     "ename": "OSError",
     "evalue": "bad operation for mode 'r'",
     "output_type": "error",
     "traceback": [
      "\u001b[0;31m---------------------------------------------------------------------------\u001b[0m",
      "\u001b[0;31mOSError\u001b[0m                                   Traceback (most recent call last)",
      "Cell \u001b[0;32mIn [3], line 21\u001b[0m\n\u001b[1;32m     17\u001b[0m        st\u001b[38;5;241m.\u001b[39mwrite(\u001b[38;5;124m\"\u001b[39m\u001b[38;5;124mtmp.sac\u001b[39m\u001b[38;5;124m\"\u001b[39m, \u001b[38;5;28mformat\u001b[39m\u001b[38;5;241m=\u001b[39m\u001b[38;5;124m'\u001b[39m\u001b[38;5;124mSAC\u001b[39m\u001b[38;5;124m'\u001b[39m)\n\u001b[1;32m     18\u001b[0m        \u001b[38;5;66;03m#print(bytesIO)\u001b[39;00m\n\u001b[1;32m     19\u001b[0m        \u001b[38;5;66;03m#file_info = tarfile.TarInfo(name=\"foo\")\u001b[39;00m\n\u001b[1;32m     20\u001b[0m        \u001b[38;5;66;03m#file_info.size=len(bytesIO.buf)\u001b[39;00m\n\u001b[0;32m---> 21\u001b[0m        \u001b[43mt\u001b[49m\u001b[38;5;241;43m.\u001b[39;49m\u001b[43madd\u001b[49m\u001b[43m(\u001b[49m\u001b[38;5;124;43m\"\u001b[39;49m\u001b[38;5;124;43m./tmp.sac\u001b[39;49m\u001b[38;5;124;43m\"\u001b[39;49m\u001b[43m,\u001b[49m\u001b[43m \u001b[49m\u001b[43mos\u001b[49m\u001b[38;5;241;43m.\u001b[39;49m\u001b[43mpath\u001b[49m\u001b[38;5;241;43m.\u001b[39;49m\u001b[43mbasename\u001b[49m\u001b[43m(\u001b[49m\u001b[38;5;124;43m\"\u001b[39;49m\u001b[38;5;124;43m./tmp.sac\u001b[39;49m\u001b[38;5;124;43m\"\u001b[39;49m\u001b[43m)\u001b[49m\u001b[43m)\u001b[49m\n\u001b[1;32m     24\u001b[0m \u001b[38;5;66;03m#f = tarfile.open(\"test.tar.gz\", 'w:gz')\u001b[39;00m\n\u001b[1;32m     25\u001b[0m \u001b[38;5;66;03m#f.add(\"./tmp.sac\", os.path.basename(\"./tmp.sac\"))\u001b[39;00m\n\u001b[1;32m     26\u001b[0m t\u001b[38;5;241m.\u001b[39mclose()\n",
      "File \u001b[0;32m~/anaconda3/envs/tensorflow/lib/python3.9/tarfile.py:1959\u001b[0m, in \u001b[0;36mTarFile.add\u001b[0;34m(self, name, arcname, recursive, filter)\u001b[0m\n\u001b[1;32m   1949\u001b[0m \u001b[39mdef\u001b[39;00m \u001b[39madd\u001b[39m(\u001b[39mself\u001b[39m, name, arcname\u001b[39m=\u001b[39m\u001b[39mNone\u001b[39;00m, recursive\u001b[39m=\u001b[39m\u001b[39mTrue\u001b[39;00m, \u001b[39m*\u001b[39m, \u001b[39mfilter\u001b[39m\u001b[39m=\u001b[39m\u001b[39mNone\u001b[39;00m):\n\u001b[1;32m   1950\u001b[0m     \u001b[39m\"\"\"Add the file `name' to the archive. `name' may be any type of file\u001b[39;00m\n\u001b[1;32m   1951\u001b[0m \u001b[39m       (directory, fifo, symbolic link, etc.). If given, `arcname'\u001b[39;00m\n\u001b[1;32m   1952\u001b[0m \u001b[39m       specifies an alternative name for the file in the archive.\u001b[39;00m\n\u001b[0;32m   (...)\u001b[0m\n\u001b[1;32m   1957\u001b[0m \u001b[39m       excluded from the archive.\u001b[39;00m\n\u001b[1;32m   1958\u001b[0m \u001b[39m    \"\"\"\u001b[39;00m\n\u001b[0;32m-> 1959\u001b[0m     \u001b[39mself\u001b[39;49m\u001b[39m.\u001b[39;49m_check(\u001b[39m\"\u001b[39;49m\u001b[39mawx\u001b[39;49m\u001b[39m\"\u001b[39;49m)\n\u001b[1;32m   1961\u001b[0m     \u001b[39mif\u001b[39;00m arcname \u001b[39mis\u001b[39;00m \u001b[39mNone\u001b[39;00m:\n\u001b[1;32m   1962\u001b[0m         arcname \u001b[39m=\u001b[39m name\n",
      "File \u001b[0;32m~/anaconda3/envs/tensorflow/lib/python3.9/tarfile.py:2418\u001b[0m, in \u001b[0;36mTarFile._check\u001b[0;34m(self, mode)\u001b[0m\n\u001b[1;32m   2416\u001b[0m     \u001b[39mraise\u001b[39;00m \u001b[39mOSError\u001b[39;00m(\u001b[39m\"\u001b[39m\u001b[39m%s\u001b[39;00m\u001b[39m is closed\u001b[39m\u001b[39m\"\u001b[39m \u001b[39m%\u001b[39m \u001b[39mself\u001b[39m\u001b[39m.\u001b[39m\u001b[39m__class__\u001b[39m\u001b[39m.\u001b[39m\u001b[39m__name__\u001b[39m)\n\u001b[1;32m   2417\u001b[0m \u001b[39mif\u001b[39;00m mode \u001b[39mis\u001b[39;00m \u001b[39mnot\u001b[39;00m \u001b[39mNone\u001b[39;00m \u001b[39mand\u001b[39;00m \u001b[39mself\u001b[39m\u001b[39m.\u001b[39mmode \u001b[39mnot\u001b[39;00m \u001b[39min\u001b[39;00m mode:\n\u001b[0;32m-> 2418\u001b[0m     \u001b[39mraise\u001b[39;00m \u001b[39mOSError\u001b[39;00m(\u001b[39m\"\u001b[39m\u001b[39mbad operation for mode \u001b[39m\u001b[39m%r\u001b[39;00m\u001b[39m\"\u001b[39m \u001b[39m%\u001b[39m \u001b[39mself\u001b[39m\u001b[39m.\u001b[39mmode)\n",
      "\u001b[0;31mOSError\u001b[0m: bad operation for mode 'r'"
     ]
    }
   ],
   "source": [
    "import tarfile\n",
    "sta = \"R50D4\"\n",
    "import io\n",
    "\n",
    "bytesIO = io.BytesIO()\n",
    "\n",
    "t = tarfile.open(rep_gzip, 'r:gz')\n",
    "for finfo in t.getmembers():\n",
    "    info = finfo.name.split(\"_\")\n",
    "    print(info)\n",
    "    if info[1] == sta:\n",
    "       fileobj = t.extractfile(finfo)\n",
    "       st = obspy.read(fileobj)\n",
    "       for tr in st:\n",
    "           rename_data(tr, station=\"TEST\")\n",
    "       st.plot()   \n",
    "       st.write(\"tmp.sac\", format='SAC')\n",
    "       #print(bytesIO)\n",
    "       #file_info = tarfile.TarInfo(name=\"foo\")\n",
    "       #file_info.size=len(bytesIO.buf)\n",
    "       t.add(\"./tmp.sac\", os.path.basename(\"./tmp.sac\"))\n",
    "       \n",
    "\n",
    "#f = tarfile.open(\"test.tar.gz\", 'w:gz')\n",
    "#f.add(\"./tmp.sac\", os.path.basename(\"./tmp.sac\"))\n",
    "t.close()\n",
    "    "
   ]
  },
  {
   "cell_type": "code",
   "execution_count": 4,
   "metadata": {},
   "outputs": [],
   "source": [
    "import os\n",
    "import glob\n",
    "import shutil\n",
    "\n",
    "\n",
    "def create_dir(path):\n",
    "    if not os.path.exists(path):\n",
    "        os.makedirs(path)\n",
    "        \n",
    "\n",
    "def compress(archive_name, source_dir):\n",
    "    print(\"Compressing files to %s...\" % archive_name)\n",
    "    tar = tarfile.open(archive_name, \"w:gz\")\n",
    "    for file_name in glob.glob(os.path.join(source_dir, \"*\")):\n",
    "        print(\"  Adding %s...\" % file_name)\n",
    "        tar.add(file_name, os.path.basename(file_name))\n",
    "    tar.close()\n",
    "\n",
    "\n",
    "def decompress(archive_name, dest_dir):\n",
    "    print(\"Decompressing files to %s...\" % dest_dir)\n",
    "    shutil.rmtree(dest_dir)\n",
    "    create_dir(dest_dir)\n",
    "    tar = tarfile.open(archive_name, \"r:gz\")\n",
    "    for tarinfo in tar:\n",
    "        tar.extract(tarinfo, dest_dir)\n",
    "    tar.close()"
   ]
  },
  {
   "cell_type": "code",
   "execution_count": 16,
   "metadata": {},
   "outputs": [
    {
     "data": {
      "text/plain": [
       "True"
      ]
     },
     "execution_count": 16,
     "metadata": {},
     "output_type": "execute_result"
    }
   ],
   "source": [
    "def print_info_stream_in_targz(targz_file):\n",
    "    t = tarfile.open(targz_file, 'r:gz')\n",
    "    for finfo in t.getmembers():\n",
    "        #print(finfo.name)\n",
    "        if finfo.name.split(\"_\")[0] == \"AM\":\n",
    "            print(finfo.name)\n",
    "            \n",
    "        #fileobj = t.extractfile(finfo)\n",
    "        #st = obspy.read(fileobj)\n",
    "        #print(st)\n",
    "        \n",
    "\n",
    "def test_network_in_tar_file(targz_file, net=\"AM\"):\n",
    "    t = tarfile.open(targz_file, 'r:gz')\n",
    "    for finfo in t.getmembers():\n",
    "        if finfo.name.split(\"_\")[0] == net:\n",
    "            return True\n",
    "    return False\n",
    "\n",
    "test_network_in_tar_file(rep_gzip,  net=\"AM\")"
   ]
  },
  {
   "cell_type": "code",
   "execution_count": 6,
   "metadata": {},
   "outputs": [
    {
     "ename": "CompressionError",
     "evalue": "unknown compression type 'tar.gz'",
     "output_type": "error",
     "traceback": [
      "\u001b[0;31m---------------------------------------------------------------------------\u001b[0m",
      "\u001b[0;31mCompressionError\u001b[0m                          Traceback (most recent call last)",
      "Cell \u001b[0;32mIn [6], line 1\u001b[0m\n\u001b[0;32m----> 1\u001b[0m tarbz2 \u001b[38;5;241m=\u001b[39m \u001b[43mtarfile\u001b[49m\u001b[38;5;241;43m.\u001b[39;49m\u001b[43mopen\u001b[49m\u001b[43m(\u001b[49m\u001b[38;5;124;43m'\u001b[39;49m\u001b[38;5;124;43mrep_gzip\u001b[39;49m\u001b[38;5;124;43m'\u001b[39;49m\u001b[43m,\u001b[49m\u001b[43m \u001b[49m\u001b[38;5;124;43m'\u001b[39;49m\u001b[38;5;124;43mw:tar.gz\u001b[39;49m\u001b[38;5;124;43m'\u001b[39;49m\u001b[43m)\u001b[49m\n\u001b[1;32m      2\u001b[0m info \u001b[38;5;241m=\u001b[39m tarfile\u001b[38;5;241m.\u001b[39mTarInfo(\u001b[38;5;124m'\u001b[39m\u001b[38;5;124mpremiers.txt\u001b[39m\u001b[38;5;124m'\u001b[39m)\n\u001b[1;32m      3\u001b[0m info\u001b[38;5;241m.\u001b[39msize \u001b[38;5;241m=\u001b[39m \u001b[38;5;28mlen\u001b[39m(premiers)\n",
      "File \u001b[0;32m~/anaconda3/envs/tensorflow/lib/python3.9/tarfile.py:1637\u001b[0m, in \u001b[0;36mTarFile.open\u001b[0;34m(cls, name, mode, fileobj, bufsize, **kwargs)\u001b[0m\n\u001b[1;32m   1635\u001b[0m         func \u001b[39m=\u001b[39m \u001b[39mgetattr\u001b[39m(\u001b[39mcls\u001b[39m, \u001b[39mcls\u001b[39m\u001b[39m.\u001b[39mOPEN_METH[comptype])\n\u001b[1;32m   1636\u001b[0m     \u001b[39melse\u001b[39;00m:\n\u001b[0;32m-> 1637\u001b[0m         \u001b[39mraise\u001b[39;00m CompressionError(\u001b[39m\"\u001b[39m\u001b[39munknown compression type \u001b[39m\u001b[39m%r\u001b[39;00m\u001b[39m\"\u001b[39m \u001b[39m%\u001b[39m comptype)\n\u001b[1;32m   1638\u001b[0m     \u001b[39mreturn\u001b[39;00m func(name, filemode, fileobj, \u001b[39m*\u001b[39m\u001b[39m*\u001b[39mkwargs)\n\u001b[1;32m   1640\u001b[0m \u001b[39melif\u001b[39;00m \u001b[39m\"\u001b[39m\u001b[39m|\u001b[39m\u001b[39m\"\u001b[39m \u001b[39min\u001b[39;00m mode:\n",
      "\u001b[0;31mCompressionError\u001b[0m: unknown compression type 'tar.gz'"
     ]
    }
   ],
   "source": [
    "tarbz2 = tarfile.open('rep_gzip', 'w:tar.gz')\n",
    "info = tarfile.TarInfo('premiers.txt')\n",
    "info.size = len(premiers)\n",
    "tarbz2.addfile(info, io.BytesIO(premiers))\n",
    "tarbz2.close()"
   ]
  },
  {
   "cell_type": "code",
   "execution_count": 7,
   "metadata": {},
   "outputs": [],
   "source": [
    "#!python3\n",
    "#coding=utf-8\n",
    "\"\"\"\n",
    "Replace a file in a .tar.gz archive via temporary files\n",
    "\"\"\"\n",
    "\n",
    "import sys        #\n",
    "import pathlib    # https://docs.python.org/3/library/pathlib.html\n",
    "import tempfile   # https://docs.python.org/3/library/tempfile.html\n",
    "import tarfile    # https://docs.python.org/3/library/tarfile.html\n",
    "\n",
    "\n",
    "gfn = \"/Users/ambrois/Documents/01_Scripts/sds_tools/data_tools/test.tar.gz\"\n",
    "iext = \".sac\"\n",
    "\n",
    "def add_file(archive_name, file):\n",
    "    \"\"\"Extract archive to temporary directory, replace file, replace archive \"\"\"\n",
    "    # tempdir\n",
    "    with tempfile.TemporaryDirectory() as td:\n",
    "        # dirname to Path\n",
    "        tdp = pathlib.Path(td)\n",
    "\n",
    "        # extract archive to temporry directory\n",
    "        with tarfile.open(archive_name) as r:\n",
    "            r.extractall(td)\n",
    "            \n",
    "        # replace archive, from all files in tempdir\n",
    "        with tarfile.open(archive_name, \"w:gz\") as w:\n",
    "            for f in tdp.iterdir():\n",
    "                w.add(f, arcname=f.name)\n",
    "            w.add(file, arcname=os.path.basename(file))\n",
    "    #done\n",
    "\n",
    "if __name__ == \"__main__\":\n",
    "    add_file(rep_gzip, \"./tmp.sac\")"
   ]
  },
  {
   "cell_type": "code",
   "execution_count": null,
   "metadata": {},
   "outputs": [],
   "source": []
  }
 ],
 "metadata": {
  "kernelspec": {
   "display_name": "Python 3.9.13 ('tensorflow')",
   "language": "python",
   "name": "python3"
  },
  "language_info": {
   "codemirror_mode": {
    "name": "ipython",
    "version": 3
   },
   "file_extension": ".py",
   "mimetype": "text/x-python",
   "name": "python",
   "nbconvert_exporter": "python",
   "pygments_lexer": "ipython3",
   "version": "3.9.13"
  },
  "orig_nbformat": 4,
  "vscode": {
   "interpreter": {
    "hash": "782465b0a191d9b72cbc68c4156d7fbd1b7b025a696658ee9731a6ddfd52131b"
   }
  }
 },
 "nbformat": 4,
 "nbformat_minor": 2
}
